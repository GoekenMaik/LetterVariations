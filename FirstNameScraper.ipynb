{
 "cells": [
  {
   "cell_type": "code",
   "execution_count": 87,
   "id": "dedce340-bb57-43d8-a218-20a0f4b1d781",
   "metadata": {},
   "outputs": [],
   "source": [
    "try:\n",
    "    from mediawiki import MediaWiki\n",
    "except:\n",
    "    !pip install pymediawiki\n",
    "    from mediawiki import MediaWiki\n",
    "import random\n",
    "import re"
   ]
  },
  {
   "cell_type": "code",
   "execution_count": 88,
   "id": "bb530508-4fc5-4836-8f93-676f1d509623",
   "metadata": {},
   "outputs": [],
   "source": [
    "# pre-selected categories of first names from Wikipedia\n",
    "nameCategories = ['English_feminine_given_names', 'English_masculine_given_names','German_feminine_given_names', 'German_masculine_given_names']\n",
    "\n",
    "# number of elements to be scraped from each category\n",
    "numNames = 100"
   ]
  },
  {
   "cell_type": "code",
   "execution_count": 89,
   "id": "5c32d379-861f-4f52-bdc4-5722868687b7",
   "metadata": {},
   "outputs": [],
   "source": [
    "# Return a random selection of size numNames from the given category\n",
    "def extractNames(category):\n",
    "    names = list()\n",
    "    t = MediaWiki().categorytree(category)\n",
    "    for e in t[category]['links']:\n",
    "        names.append(e.split()[0])\n",
    "    return random.sample(names, min(numNames, len(names)))"
   ]
  },
  {
   "cell_type": "code",
   "execution_count": 90,
   "id": "3a86b9ea-7d05-4afb-b5e2-5741722de74c",
   "metadata": {},
   "outputs": [],
   "source": [
    "# Only allow names that contains only letters a-z, ä, ö, ü \n",
    "pattern = r'[a-zäöü]+'\n",
    "\n",
    "# Write the names to a file\n",
    "with open('names.dat', 'w') as f:\n",
    "    for category in nameCategories:\n",
    "        names = extractNames(category)\n",
    "        for n in names:\n",
    "            match = re.match(pattern, n.lower())\n",
    "            if match:\n",
    "                f.write(match.group() + '\\n')"
   ]
  }
 ],
 "metadata": {
  "kernelspec": {
   "display_name": "Python 3",
   "language": "python",
   "name": "python3"
  },
  "language_info": {
   "codemirror_mode": {
    "name": "ipython",
    "version": 3
   },
   "file_extension": ".py",
   "mimetype": "text/x-python",
   "name": "python",
   "nbconvert_exporter": "python",
   "pygments_lexer": "ipython3",
   "version": "3.10.6"
  },
  "vscode": {
   "interpreter": {
    "hash": "31f2aee4e71d21fbe5cf8b01ff0e069b9275f58929596ceb00d14d90e3e16cd6"
   }
  }
 },
 "nbformat": 4,
 "nbformat_minor": 5
}
