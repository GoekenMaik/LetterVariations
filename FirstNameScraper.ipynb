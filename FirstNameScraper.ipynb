{
 "cells": [
  {
   "cell_type": "code",
   "execution_count": 35,
   "id": "dedce340-bb57-43d8-a218-20a0f4b1d781",
   "metadata": {},
   "outputs": [],
   "source": [
    "try:\n",
    "    from mediawiki import MediaWiki\n",
    "except:\n",
    "    !pip install pymediawiki\n",
    "    from mediawiki import MediaWiki"
   ]
  },
  {
   "cell_type": "code",
   "execution_count": 36,
   "id": "6ce5bae3-f445-4e1c-b429-86057ea58aaf",
   "metadata": {},
   "outputs": [],
   "source": [
    "wikipedia = MediaWiki()"
   ]
  },
  {
   "cell_type": "code",
   "execution_count": 37,
   "id": "5c32d379-861f-4f52-bdc4-5722868687b7",
   "metadata": {},
   "outputs": [],
   "source": [
    "def extractNames(category):\n",
    "    names = list()\n",
    "    t = wikipedia.categorytree(category)\n",
    "    for e in t[category]['links']:\n",
    "        names.append(e.split()[0])\n",
    "    return names"
   ]
  },
  {
   "cell_type": "code",
   "execution_count": 40,
   "id": "bb530508-4fc5-4836-8f93-676f1d509623",
   "metadata": {},
   "outputs": [],
   "source": [
    "nameCategories = ['English_masculine_given_names','English_feminine_given_names']"
   ]
  },
  {
   "cell_type": "code",
   "execution_count": 41,
   "id": "3a86b9ea-7d05-4afb-b5e2-5741722de74c",
   "metadata": {},
   "outputs": [],
   "source": [
    "for category in nameCategories:\n",
    "    names = extractNames(category)\n",
    "    with open(f'{category}.txt', 'w') as f:\n",
    "        for n in names:\n",
    "            f.write(n + '\\n')"
   ]
  },
  {
   "cell_type": "code",
   "execution_count": null,
   "id": "2cad5f24-41eb-4eb6-93bf-396aa9293db0",
   "metadata": {},
   "outputs": [],
   "source": []
  }
 ],
 "metadata": {
  "kernelspec": {
   "display_name": "Python 3 (ipykernel)",
   "language": "python",
   "name": "python3"
  },
  "language_info": {
   "codemirror_mode": {
    "name": "ipython",
    "version": 3
   },
   "file_extension": ".py",
   "mimetype": "text/x-python",
   "name": "python",
   "nbconvert_exporter": "python",
   "pygments_lexer": "ipython3",
   "version": "3.10.8"
  }
 },
 "nbformat": 4,
 "nbformat_minor": 5
}
